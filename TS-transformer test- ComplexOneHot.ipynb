{
 "cells": [
  {
   "cell_type": "code",
   "execution_count": 1,
   "metadata": {},
   "outputs": [],
   "source": [
    "from functions import *\n",
    "from architectures2 import *\n",
    "from losses import *\n",
    "from dataset import *\n",
    "device = torch.device(\"cuda\" if torch.cuda.is_available() else \"cpu\")\n",
    "torch.manual_seed(7)\n",
    "\n",
    "from  sklearn.model_selection import train_test_split\n"
   ]
  },
  {
   "cell_type": "code",
   "execution_count": 12,
   "metadata": {},
   "outputs": [
    {
     "name": "stdout",
     "output_type": "stream",
     "text": [
      "Low complexity: Snake moves only forward at fixed speed.\n",
      "Dataset generated... 729 available instances\n",
      "x shape = torch.Size([3, 28, 28])\n",
      "x shape = torch.Size([1, 784])\n"
     ]
    }
   ],
   "source": [
    "# Generate dataset\n",
    "ds = Snake(canvas_size=28, square_size=2, speed_channel=True, future=True, square=False, complexity=False)\n",
    "\n",
    "# Show one example\n",
    "c, x, y, s = ds[501]\n",
    "print('x shape =', x.shape)\n",
    "print('x shape =', y.shape)"
   ]
  },
  {
   "cell_type": "code",
   "execution_count": 13,
   "metadata": {},
   "outputs": [],
   "source": [
    "# Wrap transforming function to dataset object\n",
    "t_ds = TransformedDataset(ds, xy_transform=xy_transform)\n",
    "\n",
    "quadrant_test = True\n",
    "if quadrant_test:\n",
    "\ttrain_quadrant_index, test_quadrant_index = get_quadrant_indexes(ds)\n",
    "\t# Get training/test subsets\n",
    "\ttrain_ds = Subset(t_ds, indices=train_quadrant_index)\n",
    "\ttest_ds = Subset(t_ds, indices=test_quadrant_index)\n",
    "else:\n",
    "\t# Random selection\n",
    "\tX_train, X_test, y_train, y_test = train_test_split(range(0, ds.len-1), range(0, ds.len-1), random_state=42)\n",
    "\tprint('train set size = ', len(X_train))\n",
    "\tprint('test set size = ', len(X_test))\n",
    "\n",
    "\t# Get training/test subsets\n",
    "\ttrain_ds = Subset(t_ds, indices=X_train)\n",
    "\ttest_ds = Subset(t_ds, indices=X_test)\n"
   ]
  },
  {
   "cell_type": "code",
   "execution_count": 14,
   "metadata": {},
   "outputs": [
    {
     "name": "stdout",
     "output_type": "stream",
     "text": [
      "train and test dataloaders are ready...\n"
     ]
    }
   ],
   "source": [
    "# Configure dataloaders\n",
    "batch_size = 24\n",
    "num_workers = 4\n",
    "\n",
    "trainloader = DataLoader(train_ds, shuffle=True, \n",
    "                          batch_size=batch_size, \n",
    "                          num_workers=num_workers, \n",
    "                          pin_memory=True)\n",
    "\n",
    "testloader = DataLoader(test_ds, shuffle=True, \n",
    "                         batch_size=batch_size, \n",
    "                         num_workers=1, \n",
    "                         pin_memory=True)\n",
    "\n",
    "print('train and test dataloaders are ready...')"
   ]
  },
  {
   "cell_type": "code",
   "execution_count": 15,
   "metadata": {},
   "outputs": [],
   "source": [
    "# Init STCoordConv\n",
    "net = STCoordConv(canvas_size=28, nbr_channels=3).to(device)\n",
    "\n",
    "# Set optimizers\n",
    "optimizer = torch.optim.Adam(net.parameters(), lr=1e-4)\n",
    "#optimizer = torch.optim.SGD(net.parameters(), lr=0.03)\n",
    "criterion = cross_entropy_one_hot#soft_cross_entropy #soft_cross_entropy\n",
    "epochs = 35\n",
    "\n",
    "# Train model"
   ]
  },
  {
   "cell_type": "code",
   "execution_count": 16,
   "metadata": {},
   "outputs": [
    {
     "name": "stdout",
     "output_type": "stream",
     "text": [
      "Train Epoch: 1 [585/585 (100%)] Loss: 6.653097\n",
      "Train Epoch: 2 [585/585 (100%)] Loss: 6.602377\n",
      "Train Epoch: 3 [585/585 (100%)] Loss: 6.544275\n",
      "Train Epoch: 4 [585/585 (100%)] Loss: 6.061087\n",
      "Train Epoch: 5 [585/585 (100%)] Loss: 6.246194\n",
      "Train Epoch: 6 [585/585 (100%)] Loss: 6.069295\n",
      "Train Epoch: 7 [585/585 (100%)] Loss: 5.821727\n",
      "Train Epoch: 8 [585/585 (100%)] Loss: 5.528589\n",
      "Train Epoch: 9 [585/585 (100%)] Loss: 4.033621\n",
      "Train Epoch: 10 [585/585 (100%)] Loss: 4.911597\n",
      "Train Epoch: 11 [585/585 (100%)] Loss: 3.950048\n",
      "Train Epoch: 12 [585/585 (100%)] Loss: 3.398124\n",
      "Train Epoch: 13 [585/585 (100%)] Loss: 2.199163\n",
      "Train Epoch: 14 [585/585 (100%)] Loss: 1.559070\n",
      "Train Epoch: 15 [585/585 (100%)] Loss: 0.774882\n",
      "Train Epoch: 16 [585/585 (100%)] Loss: 1.996579\n",
      "Train Epoch: 17 [585/585 (100%)] Loss: 0.209965\n",
      "Train Epoch: 18 [585/585 (100%)] Loss: 0.135113\n",
      "Train Epoch: 19 [585/585 (100%)] Loss: 0.104974\n",
      "Train Epoch: 20 [585/585 (100%)] Loss: 1.029533\n",
      "Train Epoch: 21 [585/585 (100%)] Loss: 1.010386\n",
      "Train Epoch: 22 [585/585 (100%)] Loss: 1.018391\n",
      "Train Epoch: 23 [585/585 (100%)] Loss: 0.074084\n",
      "Train Epoch: 24 [585/585 (100%)] Loss: 0.048352\n",
      "Train Epoch: 25 [585/585 (100%)] Loss: 0.945417\n",
      "Train Epoch: 26 [585/585 (100%)] Loss: 0.062394\n",
      "Train Epoch: 27 [585/585 (100%)] Loss: 0.036977\n",
      "Train Epoch: 28 [585/585 (100%)] Loss: 0.280932\n",
      "Train Epoch: 29 [585/585 (100%)] Loss: 0.028336\n",
      "Train Epoch: 30 [585/585 (100%)] Loss: 0.036952\n",
      "Train Epoch: 31 [585/585 (100%)] Loss: 0.898570\n",
      "Train Epoch: 32 [585/585 (100%)] Loss: 0.952819\n",
      "Train Epoch: 33 [585/585 (100%)] Loss: 0.067677\n",
      "Train Epoch: 34 [585/585 (100%)] Loss: 0.943567\n",
      "Train Epoch: 35 [585/585 (100%)] Loss: 0.060271\n"
     ]
    }
   ],
   "source": [
    "# Train model\n",
    "train_model(epochs, net, criterion, optimizer, trainloader)"
   ]
  },
  {
   "cell_type": "code",
   "execution_count": 17,
   "metadata": {},
   "outputs": [
    {
     "name": "stdout",
     "output_type": "stream",
     "text": [
      "Average loss per sample = tensor(0.0254, device='cuda:0', grad_fn=<DivBackward0>)\n"
     ]
    }
   ],
   "source": [
    "# Eval model\n",
    "eval_model(net, criterion, testloader)"
   ]
  },
  {
   "cell_type": "code",
   "execution_count": 21,
   "metadata": {},
   "outputs": [
    {
     "data": {
      "image/png": "[encoded data removed]",
      "text/plain": [
       "<Figure size 432x288 with 1 Axes>"
      ]
     },
     "metadata": {},
     "output_type": "display_data"
    },
    {
     "name": "stderr",
     "output_type": "stream",
     "text": [
      "Clipping input data to the valid range for imshow with RGB data ([0..1] for floats or [0..255] for integers).\n"
     ]
    }
   ],
   "source": [
    "play_raw_data(ds, test_quadrant_index, lim=40, canvas_size=28)"
   ]
  },
  {
   "cell_type": "code",
   "execution_count": 22,
   "metadata": {},
   "outputs": [
    {
     "data": {
      "image/png": "[encoded data removed]",
      "text/plain": [
       "<Figure size 432x288 with 1 Axes>"
      ]
     },
     "metadata": {},
     "output_type": "display_data"
    }
   ],
   "source": [
    "play_predictions_openloop(ds, test_quadrant_index, net, lim=100, canvas_size=28)\n"
   ]
  },
  {
   "cell_type": "code",
   "execution_count": 25,
   "metadata": {},
   "outputs": [
    {
     "data": {
      "image/png": "[encoded data removed]",
      "text/plain": [
       "<Figure size 432x288 with 1 Axes>"
      ]
     },
     "metadata": {},
     "output_type": "display_data"
    }
   ],
   "source": [
    "play_predictions_closedloop3D(ds, test_quadrant_index[0], net, lim=30, canvas_size=28)"
   ]
  },
  {
   "cell_type": "code",
   "execution_count": null,
   "metadata": {},
   "outputs": [],
   "source": []
  }
 ],
 "metadata": {
  "kernelspec": {
   "display_name": "Python (Pytorch)",
   "language": "python",
   "name": "pytorch"
  },
  "language_info": {
   "codemirror_mode": {
    "name": "ipython",
    "version": 3
   },
   "file_extension": ".py",
   "mimetype": "text/x-python",
   "name": "python",
   "nbconvert_exporter": "python",
   "pygments_lexer": "ipython3",
   "version": "3.7.1"
  }
 },
 "nbformat": 4,
 "nbformat_minor": 2
}
